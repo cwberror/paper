{
 "cells": [
  {
   "cell_type": "code",
   "execution_count": 6,
   "outputs": [
    {
     "name": "stdout",
     "output_type": "stream",
     "text": [
      "D:/paper/data/img\\44132322040016DDOM.jpg\n",
      "D:/paper/data/img\\44140322040004DDOM.jpg\n",
      "D:/paper/data/img\\44142222040001DDOM.jpg\n",
      "D:/paper/data/img\\44142322040003DDOM.jpg\n",
      "D:/paper/data/img\\44142422040007DDOM.jpg\n",
      "D:/paper/data/img\\44148122040001DDOM.jpg\n",
      "D:/paper/data/img\\44148122040003DDOM.jpg\n",
      "D:/paper/data/img\\44162122040011DDOM.jpg\n",
      "D:/paper/data/img\\44162222040003DDOM.jpg\n",
      "D:/paper/data/img\\44162222040009DDOM.jpg\n",
      "D:/paper/data/img\\44162422040014DDOM.jpg\n",
      "D:/paper/data/img\\44162522040026DDOM.jpg\n",
      "D:/paper/data/img\\44162522040027DDOM.jpg\n",
      "D:/paper/data/img\\44162522040032DDOM.jpg\n",
      "D:/paper/data/img\\44532122040001DDOM.jpg\n"
     ]
    }
   ],
   "source": [
    "from PIL import Image\n",
    "import torch\n",
    "import os\n",
    "from torch.utils.data import Dataset,DataLoader\n",
    "tif_path='D:/paper/data/tif'\n",
    "jpg_path='D:/paper/data/img'\n",
    "for filename in  os.listdir(tif_path):\n",
    "    imagePath=os.path.join(tif_path,filename)\n",
    "    image=Image.open(imagePath)\n",
    "    jpgImagePath=os.path.join(jpg_path,filename[:-4]+'.jpg')\n",
    "    print(jpgImagePath)\n",
    "    image.save(jpgImagePath)\n",
    "\n",
    "\n",
    "\n"
   ],
   "metadata": {
    "collapsed": false,
    "pycharm": {
     "name": "#%%\n"
    }
   }
  },
  {
   "cell_type": "code",
   "execution_count": 7,
   "outputs": [
    {
     "name": "stdout",
     "output_type": "stream",
     "text": [
      "D:\\paper\\data\\json\\44132322040016DDOM.json\\44132322040016DDOM_gt.png is not existed\n",
      "D:\\paper\\data\\json\\44140322040004DDOM.json\\44140322040004DDOM_gt.png is not existed\n",
      "D:\\paper\\data\\json\\44142222040001DDOM.json\\44142222040001DDOM_gt.png is not existed\n",
      "D:\\paper\\data\\json\\44142322040003DDOM.json\\44142322040003DDOM_gt.png is not existed\n",
      "D:\\paper\\data\\json\\44142422040007DDOM.json\\44142422040007DDOM_gt.png is not existed\n",
      "D:\\paper\\data\\json\\44148122040001DDOM.json\\44148122040001DDOM_gt.png is not existed\n",
      "D:\\paper\\data\\json\\44148122040003DDOM.json\\44148122040003DDOM_gt.png is not existed\n",
      "D:\\paper\\data\\json\\44162122040011DDOM.json\\44162122040011DDOM_gt.png is not existed\n",
      "D:\\paper\\data\\json\\44162222040003DDOM.json\\44162222040003DDOM_gt.png is not existed\n",
      "D:\\paper\\data\\json\\44162222040009DDOM.json\\44162222040009DDOM_gt.png is not existed\n",
      "D:\\paper\\data\\json\\44162422040014DDOM.json\\44162422040014DDOM_gt.png is not existed\n",
      "D:\\paper\\data\\json\\44162522040026DDOM.json\\44162522040026DDOM_gt.png is not existed\n",
      "D:\\paper\\data\\json\\44162522040027DDOM.json\\44162522040027DDOM_gt.png is not existed\n",
      "D:\\paper\\data\\json\\44162522040032DDOM.json\\44162522040032DDOM_gt.png is not existed\n",
      "D:\\paper\\data\\json\\44532122040001DDOM.json\\44532122040001DDOM_gt.png is not existed\n",
      "RGB\n",
      "RGB\n",
      "RGB\n",
      "RGB\n",
      "RGB\n",
      "RGB\n",
      "RGB\n",
      "RGB\n",
      "RGB\n",
      "RGB\n",
      "RGB\n",
      "RGB\n",
      "RGB\n",
      "RGB\n",
      "RGB\n"
     ]
    }
   ],
   "source": [
    "from PIL import Image\n",
    "import os\n",
    "import random\n",
    "import shutil\n",
    "import re\n",
    "\n",
    "\n",
    "\n",
    "GT_from_PATH = \"D:\\paper\\data\\json\"\n",
    "GT_to_PATH = \"D:\\paper\\data\\gts\"\n",
    "\n",
    "\n",
    "def copy_file(from_dir, to_dir, Name_list):\n",
    "    if not os.path.isdir(to_dir):\n",
    "        os.mkdir(to_dir)\n",
    "    # 1\n",
    "    # name_list = os.listdir(from_dir)\n",
    "\n",
    "    # # 2\n",
    "    # sample = random.sample(pathDir, 2)\n",
    "    # print(sample)\n",
    "\n",
    "    # 3\n",
    "    for name in Name_list:\n",
    "        try:\n",
    "            # print(name)\n",
    "            if not os.path.isfile(os.path.join(from_dir, name)):\n",
    "                print(\"{} is not existed\".format(os.path.join(from_dir, name)))\n",
    "            shutil.copy(os.path.join(from_dir, name), os.path.join(to_dir, name))\n",
    "            # print(\"{} has copied to {}\".format(os.path.join(from_dir, name), os.path.join(to_dir, name)))\n",
    "        except:\n",
    "            # print(\"failed to move {}\".format(from_dir + name))\n",
    "            pass\n",
    "        # shutil.copyfile(fileDir+name, tarDir+name)\n",
    "    # print(\"{} has copied to {}\".format(from_dir, to_dir))\n",
    "\n",
    "\n",
    "if __name__ == '__main__':\n",
    "    filepath_list = os.listdir(GT_from_PATH)\n",
    "    # print(name_list)\n",
    "    for i, file_path in enumerate(filepath_list):\n",
    "        gt_path = \"{}\\{}_gt.png\".format(os.path.join(GT_from_PATH, filepath_list[i]), file_path[:-5])\n",
    "        # print(\"copy {} to ...\".format(gt_path))\n",
    "        gt_name = [\"{}_gt.png\".format(file_path[:-5])]\n",
    "        gt_file_path = os.path.join(GT_from_PATH, file_path)\n",
    "        copy_file(gt_file_path, GT_to_PATH, gt_name)\n",
    "\n",
    "    for i, file_path in enumerate(os.listdir(GT_to_PATH)):\n",
    "        oldpath = os.path.join(GT_to_PATH,file_path)\n",
    "        newpath = os.path.join(GT_to_PATH,file_path[:-7]+'.jpg')\n",
    "        os.rename(oldpath,newpath)\n",
    "        img=Image.open(newpath)\n",
    "        if img.mode == \"P\":\n",
    "            img = img.convert('RGB')\n",
    "            print(img.mode)\n",
    "            img.save(newpath)\n",
    "\n"
   ],
   "metadata": {
    "collapsed": false,
    "pycharm": {
     "name": "#%%批量提取标签图像\n"
    }
   }
  },
  {
   "cell_type": "code",
   "execution_count": null,
   "outputs": [],
   "source": [
    "#导入数据增强工具\n",
    "import Augmentor\n",
    "\n",
    "#确定原始图像存储路径以及掩码文件存储路径\n",
    "# imgPath='data/img'\n",
    "# labelPath='data/gts'\n",
    "# p = Augmentor.Pipeline(imgPath)\n",
    "# p.ground_truth(labelPath)\n",
    "#\n",
    "# for i, file_path in enumerate(os.listdir(labelPath)):\n",
    "#     file=os.path.join(labelPath,file_path)\n",
    "#     img=Image.open(file)\n",
    "#     print(file,img.mode)\n",
    "#     # if img.mode == \"P\":\n",
    "#     #     img = img.convert('RGB')\n",
    "#     #     print(img.mode)\n",
    "# #图像旋转： 按照概率0.8执行，最大左旋角度10，最大右旋角度10\n",
    "# p.rotate(probability=0.8, max_left_rotation=10, max_right_rotation=10)\n",
    "#\n",
    "# #图像左右互换： 按照概率0.5执行\n",
    "# p.flip_left_right(probability=0.5)\n",
    "#\n",
    "# #图像放大缩小： 按照概率0.8执行，面积为原始图0.85倍\n",
    "# p.zoom_random(probability=0.3, percentage_area=0.85)\n",
    "#\n",
    "# #最终扩充的数据样本数\n",
    "# p.sample(100)"
   ],
   "metadata": {
    "collapsed": false,
    "pycharm": {
     "name": "#%%数据增强\n"
    }
   }
  },
  {
   "cell_type": "code",
   "execution_count": 8,
   "outputs": [
    {
     "name": "stderr",
     "output_type": "stream",
     "text": [
      "Exception in thread Thread-65:\n",
      "Traceback (most recent call last):\n",
      "  File \"C:\\ProgramData\\Anaconda3\\envs\\pytorch\\lib\\threading.py\", line 980, in _bootstrap_inner\n",
      "    self.run()\n",
      "  File \"C:\\ProgramData\\Anaconda3\\envs\\pytorch\\lib\\threading.py\", line 917, in run\n",
      "    self._target(*self._args, **self._kwargs)\n",
      "  File \"C:\\Users\\cwb\\AppData\\Local\\Temp\\ipykernel_1072\\1962392234.py\", line 144, in imageOps\n",
      "  File \"C:\\Users\\cwb\\AppData\\Local\\Temp\\ipykernel_1072\\1962392234.py\", line 104, in randomGaussian\n",
      "ValueError: cannot set WRITEABLE flag to True of this array\n"
     ]
    },
    {
     "name": "stdout",
     "output_type": "stream",
     "text": [
      "44132322040016DDOM.jpg\n",
      "44132322040016DDOM.jpg\n"
     ]
    },
    {
     "name": "stderr",
     "output_type": "stream",
     "text": [
      "Exception in thread Thread-68:\n",
      "Traceback (most recent call last):\n",
      "  File \"C:\\ProgramData\\Anaconda3\\envs\\pytorch\\lib\\threading.py\", line 980, in _bootstrap_inner\n",
      "    self.run()\n",
      "  File \"C:\\ProgramData\\Anaconda3\\envs\\pytorch\\lib\\threading.py\", line 917, in run\n",
      "    self._target(*self._args, **self._kwargs)\n",
      "  File \"C:\\Users\\cwb\\AppData\\Local\\Temp\\ipykernel_1072\\1962392234.py\", line 144, in imageOps\n",
      "  File \"C:\\Users\\cwb\\AppData\\Local\\Temp\\ipykernel_1072\\1962392234.py\", line 104, in randomGaussian\n",
      "ValueError: cannot set WRITEABLE flag to True of this array\n"
     ]
    },
    {
     "name": "stdout",
     "output_type": "stream",
     "text": [
      "44140322040004DDOM.jpg\n",
      "44140322040004DDOM.jpg\n"
     ]
    },
    {
     "name": "stderr",
     "output_type": "stream",
     "text": [
      "Exception in thread Thread-71:\n",
      "Traceback (most recent call last):\n",
      "  File \"C:\\ProgramData\\Anaconda3\\envs\\pytorch\\lib\\threading.py\", line 980, in _bootstrap_inner\n",
      "    self.run()\n",
      "  File \"C:\\ProgramData\\Anaconda3\\envs\\pytorch\\lib\\threading.py\", line 917, in run\n",
      "    self._target(*self._args, **self._kwargs)\n",
      "  File \"C:\\Users\\cwb\\AppData\\Local\\Temp\\ipykernel_1072\\1962392234.py\", line 144, in imageOps\n",
      "  File \"C:\\Users\\cwb\\AppData\\Local\\Temp\\ipykernel_1072\\1962392234.py\", line 104, in randomGaussian\n",
      "ValueError: cannot set WRITEABLE flag to True of this array\n"
     ]
    },
    {
     "name": "stdout",
     "output_type": "stream",
     "text": [
      "44142222040001DDOM.jpg\n",
      "44142222040001DDOM.jpg\n"
     ]
    },
    {
     "name": "stderr",
     "output_type": "stream",
     "text": [
      "Exception in thread Thread-74:\n",
      "Traceback (most recent call last):\n",
      "  File \"C:\\ProgramData\\Anaconda3\\envs\\pytorch\\lib\\threading.py\", line 980, in _bootstrap_inner\n",
      "    self.run()\n",
      "  File \"C:\\ProgramData\\Anaconda3\\envs\\pytorch\\lib\\threading.py\", line 917, in run\n",
      "    self._target(*self._args, **self._kwargs)\n",
      "  File \"C:\\Users\\cwb\\AppData\\Local\\Temp\\ipykernel_1072\\1962392234.py\", line 144, in imageOps\n",
      "  File \"C:\\Users\\cwb\\AppData\\Local\\Temp\\ipykernel_1072\\1962392234.py\", line 104, in randomGaussian\n",
      "ValueError: cannot set WRITEABLE flag to True of this array\n"
     ]
    },
    {
     "name": "stdout",
     "output_type": "stream",
     "text": [
      "44142322040003DDOM.jpg\n",
      "44142322040003DDOM.jpg\n"
     ]
    },
    {
     "name": "stderr",
     "output_type": "stream",
     "text": [
      "Exception in thread Thread-77:\n",
      "Traceback (most recent call last):\n",
      "  File \"C:\\ProgramData\\Anaconda3\\envs\\pytorch\\lib\\threading.py\", line 980, in _bootstrap_inner\n",
      "    self.run()\n",
      "  File \"C:\\ProgramData\\Anaconda3\\envs\\pytorch\\lib\\threading.py\", line 917, in run\n",
      "    self._target(*self._args, **self._kwargs)\n",
      "  File \"C:\\Users\\cwb\\AppData\\Local\\Temp\\ipykernel_1072\\1962392234.py\", line 144, in imageOps\n",
      "  File \"C:\\Users\\cwb\\AppData\\Local\\Temp\\ipykernel_1072\\1962392234.py\", line 104, in randomGaussian\n",
      "ValueError: cannot set WRITEABLE flag to True of this array\n"
     ]
    },
    {
     "name": "stdout",
     "output_type": "stream",
     "text": [
      "44142422040007DDOM.jpg\n",
      "44142422040007DDOM.jpg\n"
     ]
    },
    {
     "name": "stderr",
     "output_type": "stream",
     "text": [
      "Exception in thread Thread-80:\n",
      "Traceback (most recent call last):\n",
      "  File \"C:\\ProgramData\\Anaconda3\\envs\\pytorch\\lib\\threading.py\", line 980, in _bootstrap_inner\n",
      "    self.run()\n",
      "  File \"C:\\ProgramData\\Anaconda3\\envs\\pytorch\\lib\\threading.py\", line 917, in run\n",
      "    self._target(*self._args, **self._kwargs)\n",
      "  File \"C:\\Users\\cwb\\AppData\\Local\\Temp\\ipykernel_1072\\1962392234.py\", line 144, in imageOps\n",
      "  File \"C:\\Users\\cwb\\AppData\\Local\\Temp\\ipykernel_1072\\1962392234.py\", line 104, in randomGaussian\n",
      "ValueError: cannot set WRITEABLE flag to True of this array\n"
     ]
    },
    {
     "name": "stdout",
     "output_type": "stream",
     "text": [
      "44148122040001DDOM.jpg\n",
      "44148122040001DDOM.jpg\n"
     ]
    },
    {
     "name": "stderr",
     "output_type": "stream",
     "text": [
      "Exception in thread Thread-83:\n",
      "Traceback (most recent call last):\n",
      "  File \"C:\\ProgramData\\Anaconda3\\envs\\pytorch\\lib\\threading.py\", line 980, in _bootstrap_inner\n",
      "    self.run()\n",
      "  File \"C:\\ProgramData\\Anaconda3\\envs\\pytorch\\lib\\threading.py\", line 917, in run\n",
      "    self._target(*self._args, **self._kwargs)\n",
      "  File \"C:\\Users\\cwb\\AppData\\Local\\Temp\\ipykernel_1072\\1962392234.py\", line 144, in imageOps\n",
      "  File \"C:\\Users\\cwb\\AppData\\Local\\Temp\\ipykernel_1072\\1962392234.py\", line 104, in randomGaussian\n",
      "ValueError: cannot set WRITEABLE flag to True of this array\n"
     ]
    },
    {
     "name": "stdout",
     "output_type": "stream",
     "text": [
      "44148122040003DDOM.jpg\n",
      "44148122040003DDOM.jpg\n"
     ]
    },
    {
     "name": "stderr",
     "output_type": "stream",
     "text": [
      "Exception in thread Thread-86:\n",
      "Traceback (most recent call last):\n",
      "  File \"C:\\ProgramData\\Anaconda3\\envs\\pytorch\\lib\\threading.py\", line 980, in _bootstrap_inner\n",
      "    self.run()\n",
      "  File \"C:\\ProgramData\\Anaconda3\\envs\\pytorch\\lib\\threading.py\", line 917, in run\n",
      "    self._target(*self._args, **self._kwargs)\n",
      "  File \"C:\\Users\\cwb\\AppData\\Local\\Temp\\ipykernel_1072\\1962392234.py\", line 144, in imageOps\n",
      "  File \"C:\\Users\\cwb\\AppData\\Local\\Temp\\ipykernel_1072\\1962392234.py\", line 104, in randomGaussian\n",
      "ValueError: cannot set WRITEABLE flag to True of this array\n"
     ]
    },
    {
     "name": "stdout",
     "output_type": "stream",
     "text": [
      "44162122040011DDOM.jpg\n",
      "44162122040011DDOM.jpg\n"
     ]
    },
    {
     "name": "stderr",
     "output_type": "stream",
     "text": [
      "Exception in thread Thread-89:\n",
      "Traceback (most recent call last):\n",
      "  File \"C:\\ProgramData\\Anaconda3\\envs\\pytorch\\lib\\threading.py\", line 980, in _bootstrap_inner\n",
      "    self.run()\n",
      "  File \"C:\\ProgramData\\Anaconda3\\envs\\pytorch\\lib\\threading.py\", line 917, in run\n",
      "    self._target(*self._args, **self._kwargs)\n",
      "  File \"C:\\Users\\cwb\\AppData\\Local\\Temp\\ipykernel_1072\\1962392234.py\", line 144, in imageOps\n",
      "  File \"C:\\Users\\cwb\\AppData\\Local\\Temp\\ipykernel_1072\\1962392234.py\", line 104, in randomGaussian\n",
      "ValueError: cannot set WRITEABLE flag to True of this array\n"
     ]
    },
    {
     "name": "stdout",
     "output_type": "stream",
     "text": [
      "44162222040003DDOM.jpg\n",
      "44162222040003DDOM.jpg\n"
     ]
    },
    {
     "name": "stderr",
     "output_type": "stream",
     "text": [
      "Exception in thread Thread-92:\n",
      "Traceback (most recent call last):\n",
      "  File \"C:\\ProgramData\\Anaconda3\\envs\\pytorch\\lib\\threading.py\", line 980, in _bootstrap_inner\n",
      "    self.run()\n",
      "  File \"C:\\ProgramData\\Anaconda3\\envs\\pytorch\\lib\\threading.py\", line 917, in run\n",
      "    self._target(*self._args, **self._kwargs)\n",
      "  File \"C:\\Users\\cwb\\AppData\\Local\\Temp\\ipykernel_1072\\1962392234.py\", line 144, in imageOps\n",
      "  File \"C:\\Users\\cwb\\AppData\\Local\\Temp\\ipykernel_1072\\1962392234.py\", line 104, in randomGaussian\n",
      "ValueError: cannot set WRITEABLE flag to True of this array\n"
     ]
    },
    {
     "name": "stdout",
     "output_type": "stream",
     "text": [
      "44162222040009DDOM.jpg\n",
      "44162222040009DDOM.jpg\n"
     ]
    },
    {
     "name": "stderr",
     "output_type": "stream",
     "text": [
      "Exception in thread Thread-95:\n",
      "Traceback (most recent call last):\n",
      "  File \"C:\\ProgramData\\Anaconda3\\envs\\pytorch\\lib\\threading.py\", line 980, in _bootstrap_inner\n",
      "    self.run()\n",
      "  File \"C:\\ProgramData\\Anaconda3\\envs\\pytorch\\lib\\threading.py\", line 917, in run\n",
      "    self._target(*self._args, **self._kwargs)\n",
      "  File \"C:\\Users\\cwb\\AppData\\Local\\Temp\\ipykernel_1072\\1962392234.py\", line 144, in imageOps\n",
      "  File \"C:\\Users\\cwb\\AppData\\Local\\Temp\\ipykernel_1072\\1962392234.py\", line 104, in randomGaussian\n",
      "ValueError: cannot set WRITEABLE flag to True of this array\n"
     ]
    },
    {
     "name": "stdout",
     "output_type": "stream",
     "text": [
      "44162422040014DDOM.jpg\n",
      "44162422040014DDOM.jpg\n"
     ]
    },
    {
     "name": "stderr",
     "output_type": "stream",
     "text": [
      "Exception in thread Thread-98:\n",
      "Traceback (most recent call last):\n",
      "  File \"C:\\ProgramData\\Anaconda3\\envs\\pytorch\\lib\\threading.py\", line 980, in _bootstrap_inner\n",
      "    self.run()\n",
      "  File \"C:\\ProgramData\\Anaconda3\\envs\\pytorch\\lib\\threading.py\", line 917, in run\n",
      "    self._target(*self._args, **self._kwargs)\n",
      "  File \"C:\\Users\\cwb\\AppData\\Local\\Temp\\ipykernel_1072\\1962392234.py\", line 144, in imageOps\n",
      "  File \"C:\\Users\\cwb\\AppData\\Local\\Temp\\ipykernel_1072\\1962392234.py\", line 104, in randomGaussian\n",
      "ValueError: cannot set WRITEABLE flag to True of this array\n"
     ]
    },
    {
     "name": "stdout",
     "output_type": "stream",
     "text": [
      "44162522040026DDOM.jpg\n",
      "44162522040026DDOM.jpg\n"
     ]
    },
    {
     "name": "stderr",
     "output_type": "stream",
     "text": [
      "Exception in thread Thread-101:\n",
      "Traceback (most recent call last):\n",
      "  File \"C:\\ProgramData\\Anaconda3\\envs\\pytorch\\lib\\threading.py\", line 980, in _bootstrap_inner\n",
      "    self.run()\n",
      "  File \"C:\\ProgramData\\Anaconda3\\envs\\pytorch\\lib\\threading.py\", line 917, in run\n",
      "    self._target(*self._args, **self._kwargs)\n",
      "  File \"C:\\Users\\cwb\\AppData\\Local\\Temp\\ipykernel_1072\\1962392234.py\", line 144, in imageOps\n",
      "  File \"C:\\Users\\cwb\\AppData\\Local\\Temp\\ipykernel_1072\\1962392234.py\", line 104, in randomGaussian\n",
      "ValueError: cannot set WRITEABLE flag to True of this array\n"
     ]
    },
    {
     "name": "stdout",
     "output_type": "stream",
     "text": [
      "44162522040027DDOM.jpg\n",
      "44162522040027DDOM.jpg\n"
     ]
    },
    {
     "name": "stderr",
     "output_type": "stream",
     "text": [
      "Exception in thread Thread-104:\n",
      "Traceback (most recent call last):\n",
      "  File \"C:\\ProgramData\\Anaconda3\\envs\\pytorch\\lib\\threading.py\", line 980, in _bootstrap_inner\n",
      "    self.run()\n",
      "  File \"C:\\ProgramData\\Anaconda3\\envs\\pytorch\\lib\\threading.py\", line 917, in run\n",
      "    self._target(*self._args, **self._kwargs)\n",
      "  File \"C:\\Users\\cwb\\AppData\\Local\\Temp\\ipykernel_1072\\1962392234.py\", line 144, in imageOps\n",
      "  File \"C:\\Users\\cwb\\AppData\\Local\\Temp\\ipykernel_1072\\1962392234.py\", line 104, in randomGaussian\n",
      "ValueError: cannot set WRITEABLE flag to True of this array\n"
     ]
    },
    {
     "name": "stdout",
     "output_type": "stream",
     "text": [
      "44162522040032DDOM.jpg\n",
      "44162522040032DDOM.jpg\n"
     ]
    },
    {
     "name": "stderr",
     "output_type": "stream",
     "text": [
      "Exception in thread Thread-107:\n",
      "Traceback (most recent call last):\n",
      "  File \"C:\\ProgramData\\Anaconda3\\envs\\pytorch\\lib\\threading.py\", line 980, in _bootstrap_inner\n",
      "    self.run()\n",
      "  File \"C:\\ProgramData\\Anaconda3\\envs\\pytorch\\lib\\threading.py\", line 917, in run\n",
      "    self._target(*self._args, **self._kwargs)\n",
      "  File \"C:\\Users\\cwb\\AppData\\Local\\Temp\\ipykernel_1072\\1962392234.py\", line 144, in imageOps\n",
      "  File \"C:\\Users\\cwb\\AppData\\Local\\Temp\\ipykernel_1072\\1962392234.py\", line 104, in randomGaussian\n",
      "ValueError: cannot set WRITEABLE flag to True of this array\n"
     ]
    },
    {
     "name": "stdout",
     "output_type": "stream",
     "text": [
      "44532122040001DDOM.jpg\n",
      "44532122040001DDOM.jpg\n"
     ]
    }
   ],
   "source": [
    "# ————————————————\n",
    "# 版权声明：本文为CSDN博主「TF.Y」的原创文章，遵循CC 4.0 BY-SA版权协议，转载请附上原文出处链接及本声明。\n",
    "# 原文链接：https://blog.csdn.net/weixin_44021446/article/details/107283615\n",
    "# -*- coding:utf-8 -*-\n",
    "\"\"\"数据增强\n",
    "   1. 翻转变换 flip\n",
    "   2. 随机修剪 random crop\n",
    "   3. 色彩抖动 color jittering\n",
    "   4. 平移变换 shift\n",
    "   5. 尺度变换 scale\n",
    "   6. 对比度变换 contrast\n",
    "   7. 噪声扰动 noise\n",
    "   8. 旋转变换/反射变换 Rotation/reflection\n",
    "\"\"\"\n",
    "\n",
    "from PIL import Image, ImageEnhance, ImageOps, ImageFile\n",
    "import numpy as np\n",
    "import random\n",
    "import threading, os, time\n",
    "import logging\n",
    "\n",
    "logger = logging.getLogger(__name__)\n",
    "ImageFile.LOAD_TRUNCATED_IMAGES = True\n",
    "\n",
    "\n",
    "class DataAugmentation:\n",
    "    \"\"\"\n",
    "    包含数据增强的八种方式\n",
    "    \"\"\"\n",
    "\n",
    "\n",
    "    def __init__(self):\n",
    "        pass\n",
    "\n",
    "    @staticmethod\n",
    "    def openImage(image):\n",
    "        return Image.open(image, mode=\"r\")\n",
    "\n",
    "    @staticmethod\n",
    "    def randomRotation(image, label, mode=Image.BICUBIC):\n",
    "        \"\"\"\n",
    "         对图像进行随机任意角度(0~360度)旋转\n",
    "        :param mode 邻近插值,双线性插值,双三次B样条插值(default)\n",
    "        :param image PIL的图像image\n",
    "        :return: 旋转转之后的图像\n",
    "        \"\"\"\n",
    "        random_angle = np.random.randint(1, 360)\n",
    "        return image.rotate(random_angle, mode) , label.rotate(random_angle, Image.NEAREST)\n",
    "\n",
    "    #暂时未使用这个函数\n",
    "    @staticmethod\n",
    "    def randomCrop(image, label):\n",
    "        \"\"\"\n",
    "        对图像随意剪切,考虑到图像大小范围(68,68),使用一个一个大于(36*36)的窗口进行截图\n",
    "        :param image: PIL的图像image\n",
    "        :return: 剪切之后的图像\n",
    "        \"\"\"\n",
    "        image_width = image.size[0]\n",
    "        image_height = image.size[1]\n",
    "        crop_win_size = np.random.randint(40, 68)\n",
    "        random_region = (\n",
    "            (image_width - crop_win_size) >> 1, (image_height - crop_win_size) >> 1, (image_width + crop_win_size) >> 1,\n",
    "            (image_height + crop_win_size) >> 1)\n",
    "        return image.crop(random_region), label\n",
    "\n",
    "    @staticmethod\n",
    "    def randomColor(image, label):\n",
    "        \"\"\"\n",
    "        对图像进行颜色抖动\n",
    "        :param image: PIL的图像image\n",
    "        :return: 有颜色色差的图像image\n",
    "        \"\"\"\n",
    "        random_factor = np.random.randint(0, 31) / 10.  # 随机因子\n",
    "        color_image = ImageEnhance.Color(image).enhance(random_factor)  # 调整图像的饱和度\n",
    "        random_factor = np.random.randint(10, 21) / 10.  # 随机因子\n",
    "        brightness_image = ImageEnhance.Brightness(color_image).enhance(random_factor)  # 调整图像的亮度\n",
    "        random_factor = np.random.randint(10, 21) / 10.  # 随机因1子\n",
    "        contrast_image = ImageEnhance.Contrast(brightness_image).enhance(random_factor)  # 调整图像对比度\n",
    "        random_factor = np.random.randint(0, 31) / 10.  # 随机因子\n",
    "        return ImageEnhance.Sharpness(contrast_image).enhance(random_factor) ,label # 调整图像锐度\n",
    "\n",
    "    @staticmethod\n",
    "    def randomGaussian(image, label, mean=0.2, sigma=0.3):\n",
    "        \"\"\"\n",
    "         对图像进行高斯噪声处理\n",
    "        :param image:\n",
    "        :return:\n",
    "        \"\"\"\n",
    "\n",
    "        def gaussianNoisy(im, mean=0.2, sigma=0.3):\n",
    "            \"\"\"\n",
    "            对图像做高斯噪音处理\n",
    "            :param im: 单通道图像\n",
    "            :param mean: 偏移量\n",
    "            :param sigma: 标准差\n",
    "            :return:\n",
    "            \"\"\"\n",
    "            for _i in range(len(im)):\n",
    "                im[_i] += random.gauss(mean, sigma)\n",
    "            return im\n",
    "\n",
    "        # 将图像转化成数组\n",
    "        img = np.asarray(image)\n",
    "        img.flags.writeable = True  # 将数组改为读写模式\n",
    "        width, height = img.shape[:2]\n",
    "        img_r = gaussianNoisy(img[:, :, 0].flatten(), mean, sigma)\n",
    "        img_g = gaussianNoisy(img[:, :, 1].flatten(), mean, sigma)\n",
    "        img_b = gaussianNoisy(img[:, :, 2].flatten(), mean, sigma)\n",
    "        img[:, :, 0] = img_r.reshape([width, height])\n",
    "        img[:, :, 1] = img_g.reshape([width, height])\n",
    "        img[:, :, 2] = img_b.reshape([width, height])\n",
    "        return Image.fromarray(np.uint8(img)), label\n",
    "\n",
    "    @staticmethod\n",
    "    def saveImage(image, path):\n",
    "        image.save(path)\n",
    "\n",
    "\n",
    "def makeDir(path):\n",
    "    try:\n",
    "        if not os.path.exists(path):\n",
    "            if not os.path.isfile(path):\n",
    "                # os.mkdir(path)\n",
    "                os.makedirs(path)\n",
    "            return 0\n",
    "        else:\n",
    "            return 1\n",
    "    except Exception as e:\n",
    "        print(str(e))\n",
    "        return -2\n",
    "\n",
    "\n",
    "def imageOps(func_name, image, label, img_des_path, label_des_path , img_file_name, label_file_name, times=5):\n",
    "    funcMap = {\"randomRotation\": DataAugmentation.randomRotation,\n",
    "               \"randomCrop\": DataAugmentation.randomCrop,\n",
    "               \"randomColor\": DataAugmentation.randomColor,\n",
    "               \"randomGaussian\": DataAugmentation.randomGaussian\n",
    "               }\n",
    "    if funcMap.get(func_name) is None:\n",
    "        logger.error(\"%s is not exist\", func_name)\n",
    "        return -1\n",
    "\n",
    "    for _i in range(0, times, 1):\n",
    "        new_image , new_label = funcMap[func_name](image,label)\n",
    "        DataAugmentation.saveImage(new_image, os.path.join(img_des_path, func_name + str(_i) + img_file_name))\n",
    "        DataAugmentation.saveImage(new_label, os.path.join(label_des_path, func_name + str(_i) + label_file_name))\n",
    "\n",
    "\n",
    "opsList = {\"randomRotation\",  \"randomColor\", \"randomGaussian\"}\n",
    "\n",
    "\n",
    "def threadOPS(img_path, new_img_path, label_path, new_label_path):\n",
    "    \"\"\"\n",
    "    多线程处理事务\n",
    "    :param src_path: 资源文件\n",
    "    :param des_path: 目的地文件\n",
    "    :return:\n",
    "    \"\"\"\n",
    "    #img path\n",
    "    if os.path.isdir(img_path):\n",
    "        img_names = os.listdir(img_path)\n",
    "    else:\n",
    "        img_names = [img_path]\n",
    "\n",
    "    #label path\n",
    "    if os.path.isdir(label_path):\n",
    "        label_names = os.listdir(label_path)\n",
    "    else:\n",
    "        label_names = [label_path]\n",
    "\n",
    "    img_num = 0\n",
    "    label_num = 0\n",
    "\n",
    "    #img num\n",
    "    for img_name in img_names:\n",
    "        tmp_img_name = os.path.join(img_path, img_name)\n",
    "        if os.path.isdir(tmp_img_name):\n",
    "            print('contain file folder')\n",
    "            exit()\n",
    "        else:\n",
    "            img_num = img_num + 1;\n",
    "    #label num\n",
    "    for label_name in label_names:\n",
    "        tmp_label_name = os.path.join(label_path, label_name)\n",
    "        if os.path.isdir(tmp_label_name):\n",
    "            print('contain file folder')\n",
    "            exit()\n",
    "        else:\n",
    "            label_num = label_num + 1\n",
    "\n",
    "    if img_num != label_num:\n",
    "        print('the num of img and label is not equl')\n",
    "        exit()\n",
    "    else:\n",
    "        num = img_num\n",
    "\n",
    "\n",
    "    for i in range(num):\n",
    "        img_name = img_names[i]\n",
    "        print(img_name)\n",
    "        label_name = label_names[i]\n",
    "        print(label_name)\n",
    "\n",
    "        tmp_img_name = os.path.join(img_path, img_name)\n",
    "        tmp_label_name = os.path.join(label_path, label_name)\n",
    "\n",
    "        # 读取文件并进行操作\n",
    "        image = DataAugmentation.openImage(tmp_img_name)\n",
    "        label = DataAugmentation.openImage(tmp_label_name)\n",
    "\n",
    "        threadImage = [0] * 5\n",
    "        _index = 0\n",
    "        for ops_name in opsList:\n",
    "            threadImage[_index] = threading.Thread(target=imageOps,\n",
    "                                                    args=(ops_name, image, label, new_img_path, new_label_path, img_name, label_name))\n",
    "            threadImage[_index].start()\n",
    "            _index += 1\n",
    "            time.sleep(0.2)\n",
    "\n",
    "\n",
    "if __name__ == '__main__':\n",
    "    threadOPS(\"data/img\",\n",
    "              \"data/testImg\",\n",
    "              \"data/gts\",\n",
    "              \"data/testLabel\")"
   ],
   "metadata": {
    "collapsed": false,
    "pycharm": {
     "name": "#%%数据增强2\n"
    }
   }
  },
  {
   "cell_type": "code",
   "execution_count": 2,
   "outputs": [],
   "source": [
    "import torch\n",
    "import os\n",
    "import cv2\n",
    "from PIL import Image\n",
    "import numpy as np\n",
    "\n",
    "from collections import Counter\n",
    "\n",
    "def showImg(img):\n",
    "    cv2.namedWindow(\"Image\")\n",
    "    cv2.imshow(\"Image\", img)\n",
    "    cv2.waitKey (0)\n",
    "\n",
    "img_path=r'..\\data\\testLabel'\n",
    "savepath=r'..\\data\\testLabel1'\n",
    "for name in os.listdir(img_path):\n",
    "\n",
    "    img=cv2.imread(os.path.join(img_path,name))\n",
    "    gray = cv2.cvtColor(img, cv2.COLOR_BGR2GRAY)\n",
    "    ret, binary = cv2.threshold(gray, 0, 255, cv2.THRESH_BINARY | cv2.THRESH_OTSU)\n",
    "    cv2.imwrite(os.path.join(savepath,name),binary)\n",
    "    # print(\"threshold value %s\" % ret)\n",
    "    # showImg(binary)\n",
    "\n",
    "\n",
    "\n"
   ],
   "metadata": {
    "collapsed": false,
    "pycharm": {
     "name": "#%%\n"
    }
   }
  },
  {
   "cell_type": "code",
   "execution_count": 5,
   "outputs": [
    {
     "data": {
      "text/plain": "torch.Size([256, 256, 3])"
     },
     "execution_count": 5,
     "metadata": {},
     "output_type": "execute_result"
    }
   ],
   "source": [
    "import torch\n",
    "import os\n",
    "import cv2\n",
    "from PIL import Image\n",
    "import numpy as np\n",
    "\n",
    "\n",
    "img_path=r'..\\data\\trainLabel\\randomColor04401152210001DDOM.jpg'\n",
    "\n",
    "img=cv2.imread(img_path)\n",
    "tensor = torch.tensor(img)\n",
    "tensor.shape"
   ],
   "metadata": {
    "collapsed": false,
    "pycharm": {
     "name": "#%%\n"
    }
   }
  }
 ],
 "metadata": {
  "kernelspec": {
   "display_name": "Python 3",
   "language": "python",
   "name": "python3"
  },
  "language_info": {
   "codemirror_mode": {
    "name": "ipython",
    "version": 2
   },
   "file_extension": ".py",
   "mimetype": "text/x-python",
   "name": "python",
   "nbconvert_exporter": "python",
   "pygments_lexer": "ipython2",
   "version": "2.7.6"
  }
 },
 "nbformat": 4,
 "nbformat_minor": 0
}