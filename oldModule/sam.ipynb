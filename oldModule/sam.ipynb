{
 "cells": [
  {
   "cell_type": "code",
   "execution_count": 1,
   "outputs": [
    {
     "name": "stdout",
     "output_type": "stream",
     "text": [
      "True\n"
     ]
    },
    {
     "ename": "FileNotFoundError",
     "evalue": "[WinError 3] 系统找不到指定的路径。: 'D:/paper/data/jpg'",
     "output_type": "error",
     "traceback": [
      "\u001B[1;31m---------------------------------------------------------------------------\u001B[0m",
      "\u001B[1;31mFileNotFoundError\u001B[0m                         Traceback (most recent call last)",
      "Cell \u001B[1;32mIn[1], line 56\u001B[0m\n\u001B[0;32m     54\u001B[0m root_dir\u001B[38;5;241m=\u001B[39m\u001B[38;5;124m'\u001B[39m\u001B[38;5;124mD:/paper/data/\u001B[39m\u001B[38;5;124m'\u001B[39m\n\u001B[0;32m     55\u001B[0m label_dir\u001B[38;5;241m=\u001B[39m\u001B[38;5;124m'\u001B[39m\u001B[38;5;124mjpg\u001B[39m\u001B[38;5;124m'\u001B[39m\n\u001B[1;32m---> 56\u001B[0m dataset\u001B[38;5;241m=\u001B[39m\u001B[43mHouseDataset\u001B[49m\u001B[43m(\u001B[49m\u001B[43mroot_dir\u001B[49m\u001B[43m,\u001B[49m\u001B[43mlabel_dir\u001B[49m\u001B[43m,\u001B[49m\u001B[43mis_transform\u001B[49m\u001B[38;5;241;43m=\u001B[39;49m\u001B[38;5;28;43;01mTrue\u001B[39;49;00m\u001B[43m)\u001B[49m\n\u001B[0;32m     58\u001B[0m dataloader\u001B[38;5;241m=\u001B[39mDataLoader(dataset,batch_size\u001B[38;5;241m=\u001B[39m\u001B[38;5;241m1\u001B[39m)\n\u001B[0;32m     59\u001B[0m img,label\u001B[38;5;241m=\u001B[39mdataloader\u001B[38;5;241m.\u001B[39mdataset[\u001B[38;5;241m0\u001B[39m]\n",
      "File \u001B[1;32mD:\\paper\\dataset.py:13\u001B[0m, in \u001B[0;36mHouseDataset.__init__\u001B[1;34m(self, root_dir, label_dir, is_transform)\u001B[0m\n\u001B[0;32m     11\u001B[0m \u001B[38;5;28mself\u001B[39m\u001B[38;5;241m.\u001B[39mlabel_dir\u001B[38;5;241m=\u001B[39mlabel_dir\n\u001B[0;32m     12\u001B[0m \u001B[38;5;28mself\u001B[39m\u001B[38;5;241m.\u001B[39mpath\u001B[38;5;241m=\u001B[39mos\u001B[38;5;241m.\u001B[39mpath\u001B[38;5;241m.\u001B[39mjoin(\u001B[38;5;28mself\u001B[39m\u001B[38;5;241m.\u001B[39mroot_dir,\u001B[38;5;28mself\u001B[39m\u001B[38;5;241m.\u001B[39mlabel_dir)\n\u001B[1;32m---> 13\u001B[0m \u001B[38;5;28mself\u001B[39m\u001B[38;5;241m.\u001B[39mimage_path_list\u001B[38;5;241m=\u001B[39m\u001B[43mos\u001B[49m\u001B[38;5;241;43m.\u001B[39;49m\u001B[43mlistdir\u001B[49m\u001B[43m(\u001B[49m\u001B[38;5;28;43mself\u001B[39;49m\u001B[38;5;241;43m.\u001B[39;49m\u001B[43mpath\u001B[49m\u001B[43m)\u001B[49m\n\u001B[0;32m     14\u001B[0m \u001B[38;5;28mself\u001B[39m\u001B[38;5;241m.\u001B[39mis_transform\u001B[38;5;241m=\u001B[39mis_transform\n",
      "\u001B[1;31mFileNotFoundError\u001B[0m: [WinError 3] 系统找不到指定的路径。: 'D:/paper/data/jpg'"
     ]
    }
   ],
   "source": [
    "# 一、导入包以及设置随机种子\n",
    "import numpy as np\n",
    "import random\n",
    "import torch\n",
    "from torch.utils.data import Dataset,DataLoader\n",
    "\n",
    "seed = 42\n",
    "torch.manual_seed(seed)\n",
    "np.random.seed(seed)\n",
    "random.seed(seed)\n",
    "mean = [0.485, 0.456, 0.406]\n",
    "std = [0.229, 0.224, 0.225]\n",
    "\n",
    "\n",
    "# 二、以类的方式定义超参数\n",
    "class argparse():\n",
    "    pass\n",
    "\n",
    "args = argparse()\n",
    "args.epochs, args.batch_size, args.learning_rate, args.patience = [30, 1, 0.001, 4]\n",
    "args.hidden_size, args.input_size= [40, 30]\n",
    "args.device, = [torch.device(\"cuda:0\" if torch.cuda.is_available() else \"cpu\"),]\n",
    "print(torch.cuda.is_available())\n",
    "\n",
    "# 三、定义自己的模型\n",
    "from unet import UNet\n",
    "#定义自己的数据集Dataset,DataLoader\n",
    "from dataset import HouseDataset\n",
    "import torch.nn as nn\n",
    "\n",
    "\n",
    "#加载数据，实例化模型，设置loss，优化器等\n",
    "root_dir='D:/paper/data/'\n",
    "label_dir='jpg'\n",
    "dataset=HouseDataset(root_dir,label_dir,is_transform=True)\n",
    "\n",
    "dataloader=DataLoader(dataset,batch_size=1)\n",
    "img,label=dataloader.dataset[0]\n",
    "img.shape,label\n",
    "\n",
    "model = UNet(n_channels=3, n_classes=1)#.to(args.device)\n",
    "# out_channels=3\n",
    "# model=House(out_channels=out_channels)\n",
    "criterion = torch.nn.MSELoss()\n",
    "optimizer = torch.optim.Adam(model.parameters(),lr=args.learning_rate)\n",
    "\n",
    "\n",
    "#\n",
    "# import time\n",
    "# from train import train_net\n",
    "#\n",
    "#\n",
    "#\n",
    "# #训练\n",
    "# print('开始训练！')\n",
    "# start_time=time.time()\n",
    "# train_net(model, dataloader,args.device,epochs=args.epochs,batch_size=args.batch_size,lr=args.learning_rate)\n",
    "# end_time=time.time()\n",
    "# fen = int((end_time - start_time)/60)\n",
    "# miao = round((end_time - start_time)%60,2)\n",
    "# print(f'训练完成,耗时{fen}分{miao}秒！！！')\n",
    "\n",
    "\n"
   ],
   "metadata": {
    "collapsed": false,
    "pycharm": {
     "name": "#%%\n"
    }
   }
  },
  {
   "cell_type": "code",
   "execution_count": 1,
   "outputs": [
    {
     "ename": "NameError",
     "evalue": "name 'dataloader' is not defined",
     "output_type": "error",
     "traceback": [
      "\u001B[1;31m---------------------------------------------------------------------------\u001B[0m",
      "\u001B[1;31mNameError\u001B[0m                                 Traceback (most recent call last)",
      "Cell \u001B[1;32mIn[1], line 8\u001B[0m\n\u001B[0;32m      6\u001B[0m writer\u001B[38;5;241m=\u001B[39mSummaryWriter(\u001B[38;5;124m'\u001B[39m\u001B[38;5;124mhouse\u001B[39m\u001B[38;5;124m'\u001B[39m)\n\u001B[0;32m      7\u001B[0m step\u001B[38;5;241m=\u001B[39m\u001B[38;5;241m0\u001B[39m\n\u001B[1;32m----> 8\u001B[0m \u001B[38;5;28;01mfor\u001B[39;00m data \u001B[38;5;129;01min\u001B[39;00m \u001B[43mdataloader\u001B[49m:\n\u001B[0;32m      9\u001B[0m     img,label\u001B[38;5;241m=\u001B[39mdata\n\u001B[0;32m     10\u001B[0m     \u001B[38;5;28mprint\u001B[39m(img\u001B[38;5;241m.\u001B[39mshape)\n",
      "\u001B[1;31mNameError\u001B[0m: name 'dataloader' is not defined"
     ]
    }
   ],
   "source": [
    "#显示tensor\n",
    "\n",
    "# tensorboard --logdir=house\n",
    "from torch.utils.tensorboard import SummaryWriter\n",
    "\n",
    "writer=SummaryWriter('house')\n",
    "step=0\n",
    "for data in dataloader:\n",
    "    img,label=data\n",
    "    print(img.shape)\n",
    "    writer.add_images(str(label),img,step)\n",
    "\n",
    "    imghouse=model(img)\n",
    "    print(imghouse.shape)\n",
    "    imghouse=torch.reshape(imghouse,(-1,1,248,248))\n",
    "    writer.add_images(str(label)+'_nn',imghouse,step,dataformats='NCHW')\n",
    "    step=step+1\n",
    "\n",
    "writer.close()\n",
    "\n",
    "\n",
    "\n",
    "\n",
    "\n",
    "\n",
    "\n",
    "\n",
    "# writer=SummaryWriter('house')\n",
    "# writer.add_image('aa',dataset[0][0])\n",
    "\n",
    "\n",
    "# step=0\n",
    "# for data in dataloader:\n",
    "#     img,label=data\n",
    "#     img=torch.squeeze(img)\n",
    "#     print(img.shape)\n",
    "#     writer.add_image(str(label),img,step)\n",
    "#     img=imgHouse(img)\n",
    "#     writer.add_image(str(label)+'_nn',img,step)\n",
    "#     step=step+1\n",
    "#\n",
    "# writer.close()"
   ],
   "metadata": {
    "collapsed": false,
    "pycharm": {
     "name": "#%%\n"
    }
   }
  }
 ],
 "metadata": {
  "kernelspec": {
   "display_name": "Python 3",
   "language": "python",
   "name": "python3"
  },
  "language_info": {
   "codemirror_mode": {
    "name": "ipython",
    "version": 2
   },
   "file_extension": ".py",
   "mimetype": "text/x-python",
   "name": "python",
   "nbconvert_exporter": "python",
   "pygments_lexer": "ipython2",
   "version": "2.7.6"
  },
  "pycharm": {
   "stem_cell": {
    "cell_type": "raw",
    "source": [
     "\n",
     "\n"
    ],
    "metadata": {
     "collapsed": false
    }
   }
  }
 },
 "nbformat": 4,
 "nbformat_minor": 0
}