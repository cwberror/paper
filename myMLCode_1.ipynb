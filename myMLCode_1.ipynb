{
 "cells": [
  {
   "cell_type": "code",
   "execution_count": 4,
   "metadata": {
    "collapsed": true,
    "ExecuteTime": {
     "end_time": "2023-09-19T01:52:35.485781Z",
     "start_time": "2023-09-19T01:52:33.314256500Z"
    }
   },
   "outputs": [
    {
     "name": "stdout",
     "output_type": "stream",
     "text": [
      "读取数据完成\n"
     ]
    }
   ],
   "source": [
    "import time\n",
    "\n",
    "import torch\n",
    "from dataTreat.readData import LzgdDataset,img_transforms\n",
    "import numpy as np\n",
    "from torch.utils.data import Dataset,DataLoader\n",
    "from torchvision import transforms\n",
    "import os,cv2\n",
    "import numpy as np\n",
    "import tool.visualizationTool as visTool\n",
    "\n",
    "\n",
    "train_img_dir='../data/trainImgPart'\n",
    "train_label_dir='../data/trainLabel1Part'\n",
    "\n",
    "trainDataset = LzgdDataset(train_img_dir,train_label_dir,img_transforms)\n",
    "trainDataloader = DataLoader(trainDataset, batch_size=1, shuffle=True, num_workers=0, pin_memory=True)\n",
    "type(trainDataset),len(trainDataset)\n",
    "\n",
    "valid_img_dir='../data/validImg'\n",
    "valid_label_dir='../data/validLabel1'\n",
    "\n",
    "validDataset = LzgdDataset(valid_img_dir,valid_label_dir,img_transforms)\n",
    "validDataloader = DataLoader(validDataset, batch_size=1, shuffle=True, num_workers=0, pin_memory=True)\n",
    "print('读取数据完成')\n",
    "#\n"
   ]
  },
  {
   "cell_type": "code",
   "execution_count": 3,
   "outputs": [
    {
     "name": "stdout",
     "output_type": "stream",
     "text": [
      "D:\\paper\\code\n",
      "Accuracy: 200.00%\n",
      "Recall: 100.00%\n",
      "Precision: 100.00%\n"
     ]
    },
    {
     "ename": "NameError",
     "evalue": "name 'trainDataloader' is not defined",
     "output_type": "error",
     "traceback": [
      "\u001B[1;31m---------------------------------------------------------------------------\u001B[0m",
      "\u001B[1;31mNameError\u001B[0m                                 Traceback (most recent call last)",
      "Cell \u001B[1;32mIn[3], line 19\u001B[0m\n\u001B[0;32m     17\u001B[0m torch\u001B[38;5;241m.\u001B[39mcuda\u001B[38;5;241m.\u001B[39mis_available()\n\u001B[0;32m     18\u001B[0m torch\u001B[38;5;241m.\u001B[39mmanual_seed(\u001B[38;5;241m42\u001B[39m)\n\u001B[1;32m---> 19\u001B[0m img,label\u001B[38;5;241m=\u001B[39m\u001B[43mtrainDataloader\u001B[49m\u001B[38;5;241m.\u001B[39mdataset[\u001B[38;5;241m0\u001B[39m]\n\u001B[0;32m     20\u001B[0m \u001B[38;5;66;03m# visTool.showImage(label)\u001B[39;00m\n\u001B[0;32m     21\u001B[0m device \u001B[38;5;241m=\u001B[39m torch\u001B[38;5;241m.\u001B[39mdevice(\u001B[38;5;124m\"\u001B[39m\u001B[38;5;124mcuda\u001B[39m\u001B[38;5;124m\"\u001B[39m \u001B[38;5;28;01mif\u001B[39;00m torch\u001B[38;5;241m.\u001B[39mcuda\u001B[38;5;241m.\u001B[39mis_available() \u001B[38;5;28;01melse\u001B[39;00m \u001B[38;5;124m\"\u001B[39m\u001B[38;5;124mcpu\u001B[39m\u001B[38;5;124m\"\u001B[39m)\n",
      "\u001B[1;31mNameError\u001B[0m: name 'trainDataloader' is not defined"
     ]
    }
   ],
   "source": [
    "import torch\n",
    "from torch import nn,optim\n",
    "import pandas as pd\n",
    "import numpy as np\n",
    "from collections import Counter\n",
    "import tool.tool as tool\n",
    "from module.module import Module\n",
    "from module.lzgdModule import Lzgd\n",
    "from module.FCNModule import FCN\n",
    "from module.unet import UNet\n",
    "from indicator import evaluate as eva\n",
    "from module.unetplusplusModule import NestedUNet\n",
    "from loss.dice import BCE_DICE_Loss\n",
    "import cv2\n",
    "\n",
    "\n",
    "torch.cuda.is_available()\n",
    "torch.manual_seed(42)\n",
    "img,label=trainDataloader.dataset[0]\n",
    "# visTool.showImage(label)\n",
    "device = torch.device(\"cuda\" if torch.cuda.is_available() else \"cpu\")\n",
    "\n",
    "#超参数\n",
    "lr=1e-2\n",
    "criterion = nn.BCEWithLogitsLoss().cuda()\n",
    "model_unet=Module(model=UNet(n_channels=3,n_classes=3).cuda(),criterion=criterion,LR=lr,flag='unet')\n",
    "optimizer = torch.optim.Adam(params=model_unet.model.parameters(),lr=lr)\n",
    "model=model_unet.model\n",
    "\n",
    "\n",
    "\n",
    "\n",
    "epochs = 1\n",
    "tj=None\n",
    "pred_list=[]\n",
    "\n",
    "for epoch in range(epochs):\n",
    "    img=tool.Dim3to4(img)\n",
    "    label=tool.Dim3to4(label)\n",
    "    model.train()\n",
    "    img=img.to(device=device)\n",
    "    pred=model(img)\n",
    "    # pred=pred.sigmoid()\n",
    "    pred_list.append(pred)\n",
    "    loss = criterion(pred, label.to(device=device))\n",
    "    optimizer.zero_grad()\n",
    "    loss.backward()\n",
    "    optimizer.step()\n",
    "    # _, labeled = torch.max(label, dim=1)\n",
    "    # print(tool.getValueCount(_),tool.getValueCount(labeled))\n",
    "    # print(_.shape,labeled.shape,label.shape)\n",
    "\n",
    "    _, preded = torch.max(pred, dim=1)\n",
    "    print(tool.getValueCount(_),tool.getValueCount(preded))\n",
    "    print(_.shape,preded.shape,pred.shape)\n",
    "    # print(epoch,loss.data)\n",
    "    # cv2.imwrite(f'../data/data_pred/{str(epoch)}.png',tool.tensor2numpy(pred.squeeze().permute(1,2,0))*255)"
   ],
   "metadata": {
    "collapsed": false,
    "pycharm": {
     "name": "#%%\n"
    },
    "ExecuteTime": {
     "end_time": "2023-09-19T01:52:26.767308500Z",
     "start_time": "2023-09-19T01:52:25.538648700Z"
    }
   }
  },
  {
   "cell_type": "code",
   "execution_count": 28,
   "outputs": [
    {
     "data": {
      "text/plain": "True"
     },
     "execution_count": 28,
     "metadata": {},
     "output_type": "execute_result"
    }
   ],
   "source": [
    "path='../data/data_pred'\n",
    "os.path.exists(path)\n",
    "\n",
    "# visTool.showImage(pred_list[50])\n",
    "#\n",
    "# tool.getValueCount(pred_list[50])\n",
    "# cv2.imwrite(r'data_pred/50.png',tool.tensor2numpy(pred_list[50])*255)\n"
   ],
   "metadata": {
    "collapsed": false,
    "pycharm": {
     "name": "#%%\n"
    }
   }
  }
 ],
 "metadata": {
  "kernelspec": {
   "display_name": "Python 3",
   "language": "python",
   "name": "python3"
  },
  "language_info": {
   "codemirror_mode": {
    "name": "ipython",
    "version": 2
   },
   "file_extension": ".py",
   "mimetype": "text/x-python",
   "name": "python",
   "nbconvert_exporter": "python",
   "pygments_lexer": "ipython2",
   "version": "2.7.6"
  }
 },
 "nbformat": 4,
 "nbformat_minor": 0
}
