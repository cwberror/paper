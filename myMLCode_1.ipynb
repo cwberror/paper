{
 "cells": [
  {
   "cell_type": "code",
   "execution_count": 1,
   "metadata": {
    "collapsed": true,
    "ExecuteTime": {
     "end_time": "2023-09-19T01:52:35.485781Z",
     "start_time": "2023-09-19T01:52:33.314256500Z"
    }
   },
   "outputs": [
    {
     "name": "stdout",
     "output_type": "stream",
     "text": [
      "读取数据完成\n",
      "torch.Size([3, 256, 256]) torch.float32\n"
     ]
    }
   ],
   "source": [
    "import time\n",
    "\n",
    "import torch\n",
    "import tool.tool as tool\n",
    "from dataTreat.readData import LzgdDataset,img_transforms\n",
    "import numpy as np\n",
    "from torch.utils.data import Dataset,DataLoader\n",
    "from torchvision import transforms\n",
    "import os,cv2\n",
    "import numpy as np\n",
    "import tool.visualizationTool as visTool\n",
    "\n",
    "\n",
    "train_img_dir='../data/trainImgPart'\n",
    "train_label_dir='../data/trainLabel1Part'\n",
    "\n",
    "trainDataset = LzgdDataset(train_img_dir,train_label_dir,img_transforms)\n",
    "trainDataloader = DataLoader(trainDataset, batch_size=1, shuffle=True, num_workers=0, pin_memory=True)\n",
    "type(trainDataset),len(trainDataset)\n",
    "\n",
    "valid_img_dir='../data/validImg'\n",
    "valid_label_dir='../data/validLabel1'\n",
    "\n",
    "validDataset = LzgdDataset(valid_img_dir,valid_label_dir,img_transforms)\n",
    "validDataloader = DataLoader(validDataset, batch_size=1, shuffle=True, num_workers=0, pin_memory=True)\n",
    "print('读取数据完成')\n",
    "#\n",
    "img,label=trainDataloader.dataset[0]\n",
    "print(label.shape,label.dtype)\n",
    "# tool.getValueCount(label)"
   ]
  },
  {
   "cell_type": "code",
   "execution_count": 2,
   "outputs": [
    {
     "name": "stdout",
     "output_type": "stream",
     "text": [
      "D:\\paper\\code\n",
      "Accuracy: 200.00%\n",
      "Recall: 100.00%\n",
      "Precision: 100.00%\n",
      "0 tensor(0.7473, device='cuda:0')\n",
      "20 tensor(0.3696, device='cuda:0')\n",
      "40 tensor(0.2499, device='cuda:0')\n",
      "60 tensor(0.1653, device='cuda:0')\n",
      "80 tensor(0.1115, device='cuda:0')\n",
      "100 tensor(0.0785, device='cuda:0')\n",
      "120 tensor(0.0578, device='cuda:0')\n",
      "140 tensor(0.0441, device='cuda:0')\n",
      "160 tensor(0.0348, device='cuda:0')\n",
      "180 tensor(0.0280, device='cuda:0')\n",
      "200 tensor(0.0232, device='cuda:0')\n",
      "220 tensor(0.0194, device='cuda:0')\n",
      "240 tensor(0.0165, device='cuda:0')\n",
      "260 tensor(0.0144, device='cuda:0')\n",
      "280 tensor(0.0124, device='cuda:0')\n",
      "300 tensor(0.0108, device='cuda:0')\n",
      "320 tensor(0.0097, device='cuda:0')\n",
      "340 tensor(0.0086, device='cuda:0')\n",
      "360 tensor(0.0077, device='cuda:0')\n",
      "380 tensor(0.0069, device='cuda:0')\n",
      "400 tensor(0.0070, device='cuda:0')\n",
      "420 tensor(0.0061, device='cuda:0')\n",
      "440 tensor(0.0055, device='cuda:0')\n",
      "460 tensor(0.0050, device='cuda:0')\n",
      "480 tensor(0.0046, device='cuda:0')\n",
      "499 tensor(0.0043, device='cuda:0')\n"
     ]
    }
   ],
   "source": [
    "import torch\n",
    "from torch import nn,optim\n",
    "import pandas as pd\n",
    "import numpy as np\n",
    "from collections import Counter\n",
    "import tool.tool as tool\n",
    "from module.module import Module\n",
    "from module.lzgdModule import Lzgd\n",
    "from module.FCNModule import FCN\n",
    "from module.unet import UNet\n",
    "from indicator import evaluate as eva\n",
    "from module.unetplusplusModule import NestedUNet\n",
    "from loss.dice import BCE_DICE_Loss\n",
    "import cv2\n",
    "import segmentation_models_pytorch as smp\n",
    "\n",
    "\n",
    "torch.cuda.is_available()\n",
    "torch.manual_seed(42)\n",
    "img,label=trainDataloader.dataset[0]\n",
    "# visTool.showImage(label)\n",
    "device = torch.device(\"cuda\" if torch.cuda.is_available() else \"cpu\")\n",
    "\n",
    "#超参数\n",
    "lr=1e-3\n",
    "criterion = nn.BCEWithLogitsLoss().cuda()\n",
    "\n",
    "model_unet=Module(model=UNet(n_channels=3,n_classes=3).cuda(),criterion=criterion,LR=lr,flag='unet')\n",
    "model=model_unet.model\n",
    "# model=smp.Unet(encoder_name='resnet50',in_channels=3,classes=3).to(device)\n",
    "\n",
    "\n",
    "optimizer = torch.optim.Adam(params=model.parameters(),lr=lr) #1e-3\n",
    "# optimizer = torch.optim.SGD(params=model.parameters(),lr=lr) #lr=1e-2\n",
    "\n",
    "\n",
    "\n",
    "\n",
    "\n",
    "epochs = 500\n",
    "tj=None\n",
    "pred_list=[]\n",
    "np_list=[]\n",
    "\n",
    "for epoch in range(epochs):\n",
    "    img=tool.Dim3to4(img)\n",
    "    label=tool.Dim3to4(label)\n",
    "    model.train()\n",
    "    img=img.to(device=device)\n",
    "    pred=model(img)\n",
    "    # print(pred.shape,pred.dtype,label.shape,label.dtype)\n",
    "    # pred=pred.sigmoid()\n",
    "    pred_list.append(pred)\n",
    "    # tool.getValueCount(label)\n",
    "\n",
    "\n",
    "    loss = criterion(pred, label.to(device=device))\n",
    "\n",
    "    optimizer.zero_grad()\n",
    "    loss.backward()\n",
    "    optimizer.step()\n",
    "\n",
    "    if epoch % 20==0 or epoch==epochs-1:\n",
    "        print(epoch,loss.data)\n",
    "\n",
    "\n",
    "    aa=tool.tensor2numpy(pred)*255\n",
    "    np_list.append(aa)\n",
    "    cv2.imwrite(f'../data/data_pred1/{str(epoch)}.png',aa)"
   ],
   "metadata": {
    "collapsed": false,
    "pycharm": {
     "name": "#%%\n"
    },
    "ExecuteTime": {
     "end_time": "2023-09-19T02:15:40.027117200Z",
     "start_time": "2023-09-19T02:15:39.205315100Z"
    }
   }
  },
  {
   "cell_type": "code",
   "execution_count": 15,
   "outputs": [
    {
     "data": {
      "text/plain": "278"
     },
     "execution_count": 15,
     "metadata": {},
     "output_type": "execute_result"
    }
   ],
   "source": [
    "len(model.state_dict())"
   ],
   "metadata": {
    "collapsed": false,
    "pycharm": {
     "name": "#%%\n"
    }
   }
  },
  {
   "cell_type": "code",
   "execution_count": 11,
   "outputs": [
    {
     "ename": "IndexError",
     "evalue": "list index out of range",
     "output_type": "error",
     "traceback": [
      "\u001B[1;31m---------------------------------------------------------------------------\u001B[0m",
      "\u001B[1;31mIndexError\u001B[0m                                Traceback (most recent call last)",
      "Cell \u001B[1;32mIn[11], line 4\u001B[0m\n\u001B[0;32m      1\u001B[0m path\u001B[38;5;241m=\u001B[39m\u001B[38;5;124m'\u001B[39m\u001B[38;5;124m../data/data_pred\u001B[39m\u001B[38;5;124m'\u001B[39m\n\u001B[0;32m      2\u001B[0m os\u001B[38;5;241m.\u001B[39mpath\u001B[38;5;241m.\u001B[39mexists(path)\n\u001B[1;32m----> 4\u001B[0m img_check\u001B[38;5;241m=\u001B[39m\u001B[43mpred_list\u001B[49m\u001B[43m[\u001B[49m\u001B[38;5;241;43m499\u001B[39;49m\u001B[43m]\u001B[49m\n\u001B[0;32m      5\u001B[0m \u001B[38;5;66;03m# img_check=tool.fitPredLabel(img_check)\u001B[39;00m\n\u001B[0;32m      6\u001B[0m \u001B[38;5;28mprint\u001B[39m(\u001B[38;5;124mf\u001B[39m\u001B[38;5;124m\"\u001B[39m\u001B[38;5;124mmaxValues:\u001B[39m\u001B[38;5;132;01m{\u001B[39;00mimg_check\u001B[38;5;241m.\u001B[39mmax()\u001B[38;5;241m.\u001B[39mdata\u001B[38;5;132;01m}\u001B[39;00m\u001B[38;5;124m\"\u001B[39m,\u001B[38;5;124mf\u001B[39m\u001B[38;5;124m\"\u001B[39m\u001B[38;5;124mminValues:\u001B[39m\u001B[38;5;132;01m{\u001B[39;00mimg_check\u001B[38;5;241m.\u001B[39mmin()\u001B[38;5;241m.\u001B[39mdata\u001B[38;5;132;01m}\u001B[39;00m\u001B[38;5;124m\"\u001B[39m)\n",
      "\u001B[1;31mIndexError\u001B[0m: list index out of range"
     ]
    }
   ],
   "source": [
    "path='../data/data_pred'\n",
    "os.path.exists(path)\n",
    "\n",
    "img_check=pred_list[499]\n",
    "# img_check=tool.fitPredLabel(img_check)\n",
    "print(f\"maxValues:{img_check.max().data}\",f\"minValues:{img_check.min().data}\")\n",
    "visTool.showImage(img_check)\n",
    "#\n",
    "# tool.getValueCount(img_check)\n",
    "# ouputImg=tool.tensor2numpy(pred_list[190])*255\n",
    "# ouputImg.shape\n",
    "# tool.getValueCount(ouputImg)\n",
    "# cv2.imwrite(r'190.png',ouputImg)"
   ],
   "metadata": {
    "collapsed": false,
    "pycharm": {
     "name": "#%%\n"
    }
   }
  },
  {
   "cell_type": "code",
   "execution_count": 10,
   "outputs": [
    {
     "name": "stdout",
     "output_type": "stream",
     "text": [
      "<class 'torch.Tensor'>\n"
     ]
    }
   ],
   "source": [
    "file='../data/trainLabel1Part/randomColor04401172210002DDOM.png'\n",
    "img=cv2.imread(file)\n",
    "img=torch.from_numpy(img)\n",
    "print(type(img))\n",
    "# tool.getValueCount(img)"
   ],
   "metadata": {
    "collapsed": false,
    "pycharm": {
     "name": "#%%\n"
    }
   }
  }
 ],
 "metadata": {
  "kernelspec": {
   "display_name": "Python 3",
   "language": "python",
   "name": "python3"
  },
  "language_info": {
   "codemirror_mode": {
    "name": "ipython",
    "version": 2
   },
   "file_extension": ".py",
   "mimetype": "text/x-python",
   "name": "python",
   "nbconvert_exporter": "python",
   "pygments_lexer": "ipython2",
   "version": "2.7.6"
  }
 },
 "nbformat": 4,
 "nbformat_minor": 0
}